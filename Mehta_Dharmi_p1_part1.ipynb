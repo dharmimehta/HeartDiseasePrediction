{
 "cells": [
  {
   "attachments": {},
   "cell_type": "markdown",
   "id": "7c7486a1",
   "metadata": {},
   "source": [
    "# CIS 508 - Assignment 1\n",
    "\n",
    "## Problem Introduction and Motivation\n",
    "\n",
    "> *What is heart disease?* <br>\n",
    "The term “heart disease” refers to several types of heart conditions. In the United States, the most common type of heart disease is coronary artery disease (CAD), which can lead to heart attack. As reported by the **National Center for Chronic Disease Prevention and Health Promotion (NCCDPHP)**, heart disease is the leading cause of death for men, women, and people of most racial and ethnic groups in the United States.\n",
    "Technology has a huge influence in all the markets today. With the help of technology it has now become possible to find solutions to once incurable diseases. Machine Learning is one such important aspect of technology, that can process large amounts of patient data beyond the scope of human capability, then reliably convert that analysis into medical insights that help clinicians plan and deliver care. The prediction of heart disease is one example of how machine learning can be useful. Below is the statistical chart to display the severness of heart disease.\n",
    "\n",
    "<img src = \"https://world-heart-federation.org/wp-content/uploads/2021/07/WHF-CVD-Number-1-Killer-2021.jpg\">\n",
    "\n",
    "> *Problem Statement:* <br>\n",
    "We are provided with data on almost 300 medical patients who were evaluated for the presence of heart disease.  Some were diagnosed as having heart disease, others were found to NOT have heart disease.  The goal here is to build a classification model that can help us predict the diagnosis given just 5 patient characteristics.\n",
    "\n",
    "> *How does this help?* <br>\n",
    "With help of our model prediction, the patient can see a doctor in case of positive outcome of heart disease and take necessary precautions."
   ]
  },
  {
   "cell_type": "markdown",
   "id": "80035383",
   "metadata": {},
   "source": [
    "## Project Dependencies"
   ]
  },
  {
   "cell_type": "code",
   "execution_count": 1,
   "id": "70717b2a",
   "metadata": {},
   "outputs": [],
   "source": [
    "#Step 1: Import all the necessary packages required to process our data\n",
    "import pandas as pd                                                          #pandas library is a useful tool to analyze, understand and clean our data.\n",
    "from sklearn.linear_model import LogisticRegression                          #sklearn, a statistical library provides with all the regression and classification algorithms required for the purpose of building a prediction model\n",
    "from sklearn.metrics import accuracy_score                                   #Once prediction is done, it is important to verify our results so as to answer how accurate our model is? The accuracy score metrics calculates the accuracy of our model\n",
    "import pickle                                                                #Pickle helps for serializing and deserializing python objects for an ease of data transportation"
   ]
  },
  {
   "cell_type": "markdown",
   "id": "d8183e3b",
   "metadata": {},
   "source": [
    "## Data Preparation"
   ]
  },
  {
   "cell_type": "code",
   "execution_count": 2,
   "id": "42f4e006",
   "metadata": {},
   "outputs": [],
   "source": [
    "\n",
    "#Step 2: Once the libraries are imported, we need to load/read our real-life historical data on which the classification model is trained. \n",
    "#We do this with the help of our analytical library pandas. Pandas creates a 2-D data structure also known as dataframe for the purpose of easy understanding and viewing of our data\n",
    "\n",
    "df = pd.read_csv('heart_disease.csv')\n",
    "\n",
    "#Step 3: Once the dataframes are created and the data has been understood, we now identify our feature variables and target variables for our classification.\n",
    "#What are feature variables?\n",
    "#Feature variables are individual measurable properties or characteristic of a phenomenon om which the target variable relies. For example, Price of house depends on its features like area, locality, age etc\n",
    "#What are target variables?\n",
    "#Target variables are variables whose value needs to be predicted. For example, in the above example the price of the house is a target variable.\n",
    "\n",
    "X = df.iloc[:,1:len(df.columns)]                                            #Here X represents all the feature variables divided using iloc property in pandas\n",
    "y = df.iloc[:,0]                                                            #Here y represents our target variable which is whether a person has gheart disease or not\n",
    "\n",
    "\n"
   ]
  },
  {
   "cell_type": "markdown",
   "id": "e3dd6731",
   "metadata": {},
   "source": [
    "## Modeling"
   ]
  },
  {
   "cell_type": "code",
   "execution_count": 3,
   "id": "038e80fb",
   "metadata": {},
   "outputs": [
    {
     "name": "stdout",
     "output_type": "stream",
     "text": [
      "0.7542087542087542\n"
     ]
    }
   ],
   "source": [
    "#Step 4: Once we are ready with our feature variables and target variables, these are given to our classifier model in order to predict the results\n",
    "model = LogisticRegression(max_iter=800)                                   #we create a model object, which has our Logistic Regression model with max iterations as 800. Max iterations suggests nothing but the iteration required for a model to converge i.e a state where any additional training will not affect the model/accuracy\n",
    "model.fit(X,y)                                                             #To this model we give out feature and target variables data\n",
    "\n",
    "#Step 5: Once the model is built and ready, now is the time to check the accuracy of our model.\n",
    "predictions = model.predict(X)                                             #We create an object to store the predictions produced after providing our model with all the feature variables                                       \n",
    "print(accuracy_score(y,predictions))                                       #Now, we compare the original target variables value with our newly predicted value for each set of feature variables. Depending on the comparison and correct predictions, we find the accuracy of our model and print it\n",
    "\n",
    "#Step 6: We now save our classifier as a pickle file with a binary file mode (wb)\n",
    "pickle_out = open('classifier', mode='wb')                                #pickle_out is a new object that allows to WRITE BINARY (wb) to a new file called 'classifier', on completion of which a new file is generated in our Jupyter folder same file location as the main file.\n",
    "pickle.dump(model, pickle_out)                                            # The dump functionality translates all our model code into binary and stores it in the newly generated classifier file\n",
    "pickle_out.close()                                                        #Ends the pickle functions."
   ]
  },
  {
   "cell_type": "markdown",
   "id": "371388b0",
   "metadata": {},
   "source": [
    "## Deployment"
   ]
  },
  {
   "cell_type": "code",
   "execution_count": 4,
   "id": "ff22aebe",
   "metadata": {},
   "outputs": [
    {
     "name": "stdout",
     "output_type": "stream",
     "text": [
      "Overwriting app.py\n"
     ]
    }
   ],
   "source": [
    "\n",
    "%%writefile app.py\n",
    "\n",
    "#Step 8: Import all the necessary libraries\n",
    "import pickle\n",
    "import streamlit as st\n",
    "\n",
    "pickle_in = open('classifier', 'rb')                        #Open our classifier binary file in read mode\n",
    "classifier = pickle.load(pickle_in)\n",
    "\n",
    "@st.cache()\n",
    "\n",
    "# Define the function which will make the prediction using data\n",
    "# inputs from users\n",
    "def prediction(age, sex,\n",
    "               non_anginal_pain, max_heart_rate, exercise_induced_angina):\n",
    "    \n",
    "    # Make predictions\n",
    "    prediction = classifier.predict(\n",
    "        [[age,sex, non_anginal_pain,max_heart_rate, exercise_induced_angina]])\n",
    "    \n",
    "    if prediction == 0:\n",
    "        pred = 'You probably do not suffer from heart disease'\n",
    "    else:\n",
    "        pred = 'PLEASE SEE A DOCTOR!  You might are suffering from heart disease'\n",
    "    return pred\n",
    "\n",
    "# This is the main function in which we define our webpage\n",
    "def main():\n",
    "    \n",
    "    # Create input fields\n",
    "    age = st.number_input(\"age\",\n",
    "                                  min_value=30,\n",
    "                                  max_value=100,\n",
    "                                  value=34,\n",
    "                                  step=1,\n",
    "                                 )\n",
    "    \n",
    "    sex = st.number_input(\"sex -(0-1)\",\n",
    "                                  min_value=0,\n",
    "                                  max_value=1,\n",
    "                                  value=1,\n",
    "                                 )\n",
    "    non_anginal_pain = st.number_input(\"non_anginal_pain -(0-1)\",\n",
    "                          min_value=0,\n",
    "                          max_value=1,\n",
    "                          value=1,\n",
    "                         )\n",
    "\n",
    "    max_heart_rate = st.number_input(\"max_heart_rate\",\n",
    "                          min_value=50,\n",
    "                          max_value=210,\n",
    "                          value=55,\n",
    "                          step=1\n",
    "                         )\n",
    "   \n",
    "    exercise_induced_angina = st.number_input(\"exercise_induced_angina -(0-1)\",\n",
    "                          min_value=0,\n",
    "                          max_value=1,\n",
    "                          value=1,\n",
    "                         )\n",
    "\n",
    "    result = \"\"\n",
    "    \n",
    "    # When 'Predict' is clicked, make the prediction and store it\n",
    "    if st.button(\"Predict\"):\n",
    "        result = prediction(age,sex,non_anginal_pain, max_heart_rate, exercise_induced_angina)\n",
    "        st.success(result)\n",
    "        \n",
    "if __name__=='__main__':\n",
    "    main()\n",
    "    "
   ]
  },
  {
   "cell_type": "markdown",
   "id": "c1a2ed1f",
   "metadata": {},
   "source": [
    "## Running our App"
   ]
  },
  {
   "cell_type": "code",
   "execution_count": null,
   "id": "5522e88b",
   "metadata": {},
   "outputs": [],
   "source": [
    "!streamlit run app.py"
   ]
  },
  {
   "cell_type": "code",
   "execution_count": null,
   "id": "69a03590",
   "metadata": {},
   "outputs": [],
   "source": []
  }
 ],
 "metadata": {
  "kernelspec": {
   "display_name": "Python 3 (ipykernel)",
   "language": "python",
   "name": "python3"
  },
  "language_info": {
   "codemirror_mode": {
    "name": "ipython",
    "version": 3
   },
   "file_extension": ".py",
   "mimetype": "text/x-python",
   "name": "python",
   "nbconvert_exporter": "python",
   "pygments_lexer": "ipython3",
   "version": "3.9.12"
  }
 },
 "nbformat": 4,
 "nbformat_minor": 5
}
